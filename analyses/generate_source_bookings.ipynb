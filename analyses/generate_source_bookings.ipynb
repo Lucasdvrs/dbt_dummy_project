{
 "cells": [
  {
   "cell_type": "code",
   "execution_count": 6,
   "metadata": {},
   "outputs": [
    {
     "name": "stdout",
     "output_type": "stream",
     "text": [
      "                                 unique_key        date  metric_value  \\\n",
      "0      1d22cad3-2106-40be-a0fd-deb80d7806c7  2022-10-22          3.02   \n",
      "1      99af204e-82fa-43aa-bb2c-fc73b7fb9b58  2023-08-01          9.47   \n",
      "2      4fda8d75-718d-4fed-ace1-92750ced8ed2  2022-09-30          1.48   \n",
      "3      a70d5e70-abf9-4f78-8580-6f33cb5d4387  2023-01-17          1.46   \n",
      "4      1e5a2c3e-2b9b-4097-ac92-8571cc5f394d  2022-12-14          2.12   \n",
      "...                                     ...         ...           ...   \n",
      "59995  2daf24d1-576e-4276-adca-7d7b6c7df9a8  2023-01-22          7.13   \n",
      "59996  cab271b9-1269-4418-853d-b01832a7ff75  2022-10-31          0.16   \n",
      "59997  52f56de8-7b90-40ee-810e-c29a5aaf5c89  2022-12-12          4.29   \n",
      "59998  9040565e-4f1b-4d3b-8578-2208021a70b0  2023-04-25          5.26   \n",
      "59999  2e3c45af-9bfb-4675-ba33-c384f1cf5113  2022-10-19          8.57   \n",
      "\n",
      "      country_code    category  \n",
      "0               GA  Category A  \n",
      "1               ML  Category B  \n",
      "2               MD  Category A  \n",
      "3               NI  Category B  \n",
      "4               NG  Category C  \n",
      "...            ...         ...  \n",
      "59995           KR  Category A  \n",
      "59996           VC  Category A  \n",
      "59997           IR  Category B  \n",
      "59998           MX  Category B  \n",
      "59999           ES  Category A  \n",
      "\n",
      "[60000 rows x 5 columns]\n"
     ]
    }
   ],
   "source": [
    "import pandas as pd\n",
    "from faker import Faker\n",
    "import random\n",
    "import os\n",
    "\n",
    "\n",
    "# Initialize Faker to generate random data\n",
    "fake = Faker()\n",
    "\n",
    "# Set the number of rows for the dataframe\n",
    "num_rows = 60000\n",
    "\n",
    "# Generate random IDs and dates\n",
    "ids = [fake.uuid4() for _ in range(num_rows)]\n",
    "dates = [fake.date_between(start_date='-1y', end_date='-1m').strftime('%Y-%m-%d') for _ in range(num_rows)]\n",
    "\n",
    "# Generate random metric values between 0 and 10\n",
    "metric_values = [round(random.uniform(0, 10),2) for _ in range(num_rows)]\n",
    "# Generate random country codes\n",
    "country_codes = [fake.country_code() for _ in range(num_rows)]\n",
    "\n",
    "# Generate random categories\n",
    "categories = [random.choice(['Category A', 'Category B', 'Category C']) for _ in range(num_rows)]\n",
    "\n",
    "# Create the dataframe\n",
    "ultra_large_df = pd.DataFrame({'unique_key': ids, 'date': dates, 'metric_value': metric_values, 'country_code': country_codes, 'category': categories})\n",
    "\n",
    "# Print the dataframe\n",
    "print(ultra_large_df)"
   ]
  },
  {
   "cell_type": "code",
   "execution_count": 7,
   "metadata": {},
   "outputs": [
    {
     "data": {
      "text/plain": [
       "1000"
      ]
     },
     "execution_count": 7,
     "metadata": {},
     "output_type": "execute_result"
    }
   ],
   "source": [
    "from sqlalchemy import create_engine\n",
    "engine = create_engine('postgresql://sammyteillet@localhost:5432/dbt-dummy-project')\n",
    "ultra_large_df.to_sql(name='source_bookings', con=engine, if_exists='replace', index=False)"
   ]
  },
  {
   "cell_type": "code",
   "execution_count": 8,
   "metadata": {},
   "outputs": [
    {
     "name": "stdout",
     "output_type": "stream",
     "text": [
      "[12628 37730 39991  8525  8279 51012 14871 15127  9366 33322 53390 21819\n",
      "  5026 23428 45297 26354 30195 47038 20731 34047 26064 42469 29746 14522\n",
      " 31572 54949 19368  3803 53325 14300 51301  9008 47521 25224 48921 37978\n",
      " 44171 26303 19458  5369 50291 25951 54908 56362 32218  2885 36559  8966\n",
      " 46574 10530 44628   273 19269 36911 10121 13290 57606 47189 29209 42187\n",
      " 25386 17005 10981 47313 27070  6685 54960 58125 40700 13902 31539 49716\n",
      " 49519 51923  3502 39336  2218 18505 10689 21377  1866 20192 28870 52203\n",
      "  3867  3222 21785 20984 48539 40694  8440  9951  1334 32572 28344 46503\n",
      " 34482 36271 36874 11512]\n"
     ]
    },
    {
     "data": {
      "text/plain": [
       "1000"
      ]
     },
     "execution_count": 8,
     "metadata": {},
     "output_type": "execute_result"
    }
   ],
   "source": [
    "import numpy as np\n",
    "\n",
    "# Introduce drift\n",
    "\n",
    "# Set the seed for reproducibility\n",
    "np.random.seed(42)\n",
    "\n",
    "ultra_large_df2 = ultra_large_df.copy()\n",
    "\n",
    "# Select 10 random indices for metric value update\n",
    "random_indices_metric = np.random.choice(ultra_large_df2.index, size=100, replace=False)\n",
    "print(random_indices_metric)\n",
    "# Update metric value with random values between 0 and 10\n",
    "ultra_large_df2.loc[random_indices_metric, 'metric_value'] = [round(random.uniform(0, 10),2) for _ in range(100)]\n",
    "ultra_large_df.to_sql(name='source_bookings', con=engine, if_exists='replace', index=False)"
   ]
  }
 ],
 "metadata": {
  "kernelspec": {
   "display_name": "base",
   "language": "python",
   "name": "python3"
  },
  "language_info": {
   "codemirror_mode": {
    "name": "ipython",
    "version": 3
   },
   "file_extension": ".py",
   "mimetype": "text/x-python",
   "name": "python",
   "nbconvert_exporter": "python",
   "pygments_lexer": "ipython3",
   "version": "3.11.3"
  },
  "orig_nbformat": 4
 },
 "nbformat": 4,
 "nbformat_minor": 2
}
