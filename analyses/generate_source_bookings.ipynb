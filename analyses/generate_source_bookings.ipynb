{
 "cells": [
  {
   "cell_type": "code",
   "execution_count": 2,
   "metadata": {},
   "outputs": [
    {
     "name": "stdout",
     "output_type": "stream",
     "text": [
      "                                 unique_key        date  metric_value  \\\n",
      "0      0d93e5f5-990f-4f64-b6a5-278a110b5b41  2022-10-05          3.91   \n",
      "1      a30b1678-7a10-459b-8942-a33235b5750c  2022-11-30          6.50   \n",
      "2      6e52168c-7773-4243-8768-5c5603d2dac2  2022-12-12          1.80   \n",
      "3      ac17fe27-a7f1-49bf-80aa-5b5d1c317fb8  2023-03-05          1.14   \n",
      "4      d01d9e98-6bed-4dcc-b3ae-8bc5765c1b24  2023-07-09          9.97   \n",
      "...                                     ...         ...           ...   \n",
      "59995  c613231e-e860-408f-8a54-2aee883dc0f8  2022-10-18          4.43   \n",
      "59996  7011bda7-5b12-4fc3-af33-91427c7bf88e  2023-03-27          4.42   \n",
      "59997  1823b152-ac05-4e2e-acc6-c7abc0b415c3  2023-03-21          3.77   \n",
      "59998  4bfe23bf-356c-49d3-824d-7b61f40acfdb  2023-06-27          3.88   \n",
      "59999  bec671e3-ce7a-4c43-ab5b-fc69d618a335  2023-03-25          1.69   \n",
      "\n",
      "      country_code    category  \n",
      "0               KG  Category C  \n",
      "1               EC  Category C  \n",
      "2               SA  Category C  \n",
      "3               IQ  Category A  \n",
      "4               KN  Category C  \n",
      "...            ...         ...  \n",
      "59995           AM  Category A  \n",
      "59996           TW  Category B  \n",
      "59997           KW  Category C  \n",
      "59998           BF  Category A  \n",
      "59999           ES  Category A  \n",
      "\n",
      "[60000 rows x 5 columns]\n"
     ]
    }
   ],
   "source": [
    "import pandas as pd\n",
    "from faker import Faker\n",
    "import random\n",
    "import os\n",
    "\n",
    "\n",
    "# Initialize Faker to generate random data\n",
    "fake = Faker()\n",
    "\n",
    "# Set the number of rows for the dataframe\n",
    "num_rows = 60000\n",
    "\n",
    "# Generate random IDs and dates\n",
    "ids = [fake.uuid4() for _ in range(num_rows)]\n",
    "dates = [fake.date_between(start_date='-1y', end_date='-1m').strftime('%Y-%m-%d') for _ in range(num_rows)]\n",
    "\n",
    "# Generate random metric values between 0 and 10\n",
    "metric_values = [round(random.uniform(0, 10),2) for _ in range(num_rows)]\n",
    "# Generate random country codes\n",
    "country_codes = [fake.country_code() for _ in range(num_rows)]\n",
    "\n",
    "# Generate random categories\n",
    "categories = [random.choice(['Category A', 'Category B', 'Category C']) for _ in range(num_rows)]\n",
    "\n",
    "# Create the dataframe\n",
    "ultra_large_df = pd.DataFrame({'unique_key': ids, 'date': dates, 'metric_value': metric_values, 'country_code': country_codes, 'category': categories})\n",
    "\n",
    "# Print the dataframe\n",
    "print(ultra_large_df)"
   ]
  },
  {
   "cell_type": "code",
   "execution_count": 3,
   "metadata": {},
   "outputs": [
    {
     "data": {
      "text/plain": [
       "1000"
      ]
     },
     "execution_count": 3,
     "metadata": {},
     "output_type": "execute_result"
    }
   ],
   "source": [
    "from sqlalchemy import create_engine, text\n",
    "engine = create_engine('postgresql://lucasdevries@localhost:5432/dbt-dummy-project')\n",
    "ultra_large_df.to_sql(name='source_bookings', con=engine, if_exists='replace', index=False)"
   ]
  },
  {
   "cell_type": "code",
   "execution_count": 5,
   "metadata": {},
   "outputs": [
    {
     "name": "stdout",
     "output_type": "stream",
     "text": [
      "[12628 37730 39991  8525  8279 51012 14871 15127  9366 33322 53390 21819\n",
      "  5026 23428 45297 26354 30195 47038 20731 34047 26064 42469 29746 14522\n",
      " 31572 54949 19368  3803 53325 14300 51301  9008 47521 25224 48921 37978\n",
      " 44171 26303 19458  5369 50291 25951 54908 56362 32218  2885 36559  8966\n",
      " 46574 10530 44628   273 19269 36911 10121 13290 57606 47189 29209 42187\n",
      " 25386 17005 10981 47313 27070  6685 54960 58125 40700 13902 31539 49716\n",
      " 49519 51923  3502 39336  2218 18505 10689 21377  1866 20192 28870 52203\n",
      "  3867  3222 21785 20984 48539 40694  8440  9951  1334 32572 28344 46503\n",
      " 34482 36271 36874 11512]\n"
     ]
    },
    {
     "data": {
      "text/plain": [
       "1000"
      ]
     },
     "execution_count": 5,
     "metadata": {},
     "output_type": "execute_result"
    }
   ],
   "source": [
    "import numpy as np\n",
    "\n",
    "# Introduce drift\n",
    "\n",
    "# Set the seed for reproducibility\n",
    "np.random.seed(42)\n",
    "\n",
    "ultra_large_df2 = ultra_large_df.copy()\n",
    "\n",
    "# Select 10 random indices for metric value update\n",
    "random_indices_metric = np.random.choice(ultra_large_df2.index, size=100, replace=False)\n",
    "print(random_indices_metric)\n",
    "# Update metric value with random values between 0 and 10\n",
    "ultra_large_df2.loc[random_indices_metric, 'metric_value'] = [round(random.uniform(0, 10),2) for _ in range(100)]\n",
    "\n",
    "from sqlalchemy import create_engine\n",
    "engine = create_engine('postgresql://lucasdevries@localhost:5432/dbt-dummy-project')\n",
    "ultra_large_df2.to_sql(name='source_bookings', con=engine, if_exists='replace', index=False)"
   ]
  }
 ],
 "metadata": {
  "kernelspec": {
   "display_name": "Python 3.11.4 64-bit",
   "language": "python",
   "name": "python3"
  },
  "language_info": {
   "codemirror_mode": {
    "name": "ipython",
    "version": 3
   },
   "file_extension": ".py",
   "mimetype": "text/x-python",
   "name": "python",
   "nbconvert_exporter": "python",
   "pygments_lexer": "ipython3",
   "version": "3.11.4"
  },
  "orig_nbformat": 4,
  "vscode": {
   "interpreter": {
    "hash": "aee8b7b246df8f9039afb4144a1f6fd8d2ca17a180786b69acc140d282b71a49"
   }
  }
 },
 "nbformat": 4,
 "nbformat_minor": 2
}
