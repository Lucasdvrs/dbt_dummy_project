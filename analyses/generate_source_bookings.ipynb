{
 "cells": [
  {
   "cell_type": "code",
   "execution_count": 6,
   "metadata": {},
   "outputs": [
    {
     "name": "stdout",
     "output_type": "stream",
     "text": [
      "                                 unique_key        date  metric_value  \\\n",
      "0      460b0428-0d68-49e4-9392-0fa9393e9a56  2022-12-23          9.67   \n",
      "1      4531543d-b30a-46c4-9dfc-372b57e7eaba  2023-04-20          9.92   \n",
      "2      47133571-86b3-40f2-a9f7-c8ecc725780b  2022-10-07          5.95   \n",
      "3      a0158801-3e47-48a8-becf-e40fcdd61a7e  2023-09-21          9.88   \n",
      "4      58eb6983-7356-4e7e-b9e8-509304f898e6  2023-06-02          9.33   \n",
      "...                                     ...         ...           ...   \n",
      "59995  9cc16de7-b197-49de-a0d9-c2bceecd677a  2023-02-23          0.88   \n",
      "59996  e4ff2ab9-45b8-4bca-b0cb-2165a5067266  2023-07-28          8.69   \n",
      "59997  548d6acb-d0e5-4799-b5fc-a04c0c56aef3  2023-05-01          0.85   \n",
      "59998  5717e7be-e09d-40a9-959e-2227af1cf3e1  2022-12-14          2.60   \n",
      "59999  35b93a5f-b7d6-4072-84ab-6bf8b71cf66d  2022-11-06          8.79   \n",
      "\n",
      "      country_code    category  \n",
      "0               FJ  Category A  \n",
      "1               LB  Category B  \n",
      "2               EG  Category C  \n",
      "3               LA  Category C  \n",
      "4               GW  Category C  \n",
      "...            ...         ...  \n",
      "59995           KZ  Category A  \n",
      "59996           LY  Category A  \n",
      "59997           BE  Category C  \n",
      "59998           CV  Category B  \n",
      "59999           KN  Category C  \n",
      "\n",
      "[60000 rows x 5 columns]\n"
     ]
    }
   ],
   "source": [
    "import pandas as pd\n",
    "from faker import Faker\n",
    "import random\n",
    "import os\n",
    "\n",
    "\n",
    "# Initialize Faker to generate random data\n",
    "fake = Faker()\n",
    "\n",
    "# Set the number of rows for the dataframe\n",
    "num_rows = 60000\n",
    "\n",
    "# Generate random IDs and dates\n",
    "ids = [fake.uuid4() for _ in range(num_rows)]\n",
    "dates = [fake.date_between(start_date='-1y', end_date='-1m').strftime('%Y-%m-%d') for _ in range(num_rows)]\n",
    "\n",
    "# Generate random metric values between 0 and 10\n",
    "metric_values = [round(random.uniform(0, 10),2) for _ in range(num_rows)]\n",
    "# Generate random country codes\n",
    "country_codes = [fake.country_code() for _ in range(num_rows)]\n",
    "\n",
    "# Generate random categories\n",
    "categories = [random.choice(['Category A', 'Category B', 'Category C']) for _ in range(num_rows)]\n",
    "\n",
    "# Create the dataframe\n",
    "ultra_large_df = pd.DataFrame({'unique_key': ids, 'date': dates, 'metric_value': metric_values, 'country_code': country_codes, 'category': categories})\n",
    "\n",
    "# Print the dataframe\n",
    "print(ultra_large_df)"
   ]
  },
  {
   "cell_type": "code",
   "execution_count": 7,
   "metadata": {},
   "outputs": [
    {
     "data": {
      "text/plain": [
       "1000"
      ]
     },
     "execution_count": 7,
     "metadata": {},
     "output_type": "execute_result"
    }
   ],
   "source": [
    "from sqlalchemy import create_engine\n",
    "engine = create_engine('postgresql://lucasdevries@localhost:5432/dbt-dummy-project')\n",
    "ultra_large_df.to_sql(name='source_bookings', con=engine, if_exists='replace', index=False)"
   ]
  },
  {
   "cell_type": "code",
   "execution_count": 8,
   "metadata": {},
   "outputs": [
    {
     "name": "stdout",
     "output_type": "stream",
     "text": [
      "[12628 37730 39991  8525  8279 51012 14871 15127  9366 33322 53390 21819\n",
      "  5026 23428 45297 26354 30195 47038 20731 34047 26064 42469 29746 14522\n",
      " 31572 54949 19368  3803 53325 14300 51301  9008 47521 25224 48921 37978\n",
      " 44171 26303 19458  5369 50291 25951 54908 56362 32218  2885 36559  8966\n",
      " 46574 10530 44628   273 19269 36911 10121 13290 57606 47189 29209 42187\n",
      " 25386 17005 10981 47313 27070  6685 54960 58125 40700 13902 31539 49716\n",
      " 49519 51923  3502 39336  2218 18505 10689 21377  1866 20192 28870 52203\n",
      "  3867  3222 21785 20984 48539 40694  8440  9951  1334 32572 28344 46503\n",
      " 34482 36271 36874 11512]\n"
     ]
    },
    {
     "data": {
      "text/plain": [
       "1000"
      ]
     },
     "execution_count": 8,
     "metadata": {},
     "output_type": "execute_result"
    }
   ],
   "source": [
    "import numpy as np\n",
    "\n",
    "# Introduce drift\n",
    "\n",
    "# Set the seed for reproducibility\n",
    "np.random.seed(42)\n",
    "\n",
    "ultra_large_df2 = ultra_large_df.copy()\n",
    "\n",
    "# Select 10 random indices for metric value update\n",
    "random_indices_metric = np.random.choice(ultra_large_df2.index, size=100, replace=False)\n",
    "print(random_indices_metric)\n",
    "# Update metric value with random values between 0 and 10\n",
    "ultra_large_df2.loc[random_indices_metric, 'metric_value'] = [round(random.uniform(0, 10),2) for _ in range(100)]\n",
    "ultra_large_df.to_sql(name='source_bookings', con=engine, if_exists='replace', index=False)"
   ]
  }
 ],
 "metadata": {
  "kernelspec": {
   "display_name": "Python 3.11.4 64-bit",
   "language": "python",
   "name": "python3"
  },
  "language_info": {
   "codemirror_mode": {
    "name": "ipython",
    "version": 3
   },
   "file_extension": ".py",
   "mimetype": "text/x-python",
   "name": "python",
   "nbconvert_exporter": "python",
   "pygments_lexer": "ipython3",
   "version": "3.11.4"
  },
  "orig_nbformat": 4,
  "vscode": {
   "interpreter": {
    "hash": "aee8b7b246df8f9039afb4144a1f6fd8d2ca17a180786b69acc140d282b71a49"
   }
  }
 },
 "nbformat": 4,
 "nbformat_minor": 2
}
