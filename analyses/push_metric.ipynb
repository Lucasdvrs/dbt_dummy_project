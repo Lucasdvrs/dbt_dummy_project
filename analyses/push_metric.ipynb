{
 "cells": [
  {
   "cell_type": "code",
   "execution_count": 1,
   "metadata": {},
   "outputs": [
    {
     "name": "stdout",
     "output_type": "stream",
     "text": [
      "{}\n"
     ]
    },
    {
     "ename": "DbtProjectError",
     "evalue": "Runtime Error\n  Could not find profile named 'dbt_dummy_project'",
     "output_type": "error",
     "traceback": [
      "\u001b[0;31m---------------------------------------------------------------------------\u001b[0m",
      "\u001b[0;31mDbtProjectError\u001b[0m                           Traceback (most recent call last)",
      "\u001b[1;32m/Users/sammyteillet/Documents/Projects/DataDrift/dbt_dummy_project/analyses/push_metric.ipynb Cell 1\u001b[0m line \u001b[0;36m9\n\u001b[1;32m      <a href='vscode-notebook-cell:/Users/sammyteillet/Documents/Projects/DataDrift/dbt_dummy_project/analyses/push_metric.ipynb#W0sZmlsZQ%3D%3D?line=6'>7</a>\u001b[0m project_path\u001b[39m=\u001b[39m\u001b[39m'\u001b[39m\u001b[39m..\u001b[39m\u001b[39m'\u001b[39m\n\u001b[1;32m      <a href='vscode-notebook-cell:/Users/sammyteillet/Documents/Projects/DataDrift/dbt_dummy_project/analyses/push_metric.ipynb#W0sZmlsZQ%3D%3D?line=7'>8</a>\u001b[0m dbtRunner()\u001b[39m.\u001b[39minvoke([\u001b[39m\"\u001b[39m\u001b[39m-q\u001b[39m\u001b[39m\"\u001b[39m, \u001b[39m\"\u001b[39m\u001b[39mdebug\u001b[39m\u001b[39m\"\u001b[39m], project_dir\u001b[39m=\u001b[39m\u001b[39mstr\u001b[39m(project_path))\n\u001b[0;32m----> <a href='vscode-notebook-cell:/Users/sammyteillet/Documents/Projects/DataDrift/dbt_dummy_project/analyses/push_metric.ipynb#W0sZmlsZQ%3D%3D?line=8'>9</a>\u001b[0m profile \u001b[39m=\u001b[39m load_profile(\u001b[39mstr\u001b[39;49m(project_path), {})\n\u001b[1;32m     <a href='vscode-notebook-cell:/Users/sammyteillet/Documents/Projects/DataDrift/dbt_dummy_project/analyses/push_metric.ipynb#W0sZmlsZQ%3D%3D?line=9'>10</a>\u001b[0m project \u001b[39m=\u001b[39m load_project(\u001b[39mstr\u001b[39m(project_path), version_check\u001b[39m=\u001b[39m\u001b[39mFalse\u001b[39;00m, profile\u001b[39m=\u001b[39mprofile)\n\u001b[1;32m     <a href='vscode-notebook-cell:/Users/sammyteillet/Documents/Projects/DataDrift/dbt_dummy_project/analyses/push_metric.ipynb#W0sZmlsZQ%3D%3D?line=11'>12</a>\u001b[0m project\n",
      "File \u001b[0;32m/opt/homebrew/Caskroom/miniconda/base/lib/python3.11/site-packages/dbt/config/runtime.py:70\u001b[0m, in \u001b[0;36mload_profile\u001b[0;34m(project_root, cli_vars, profile_name_override, target_override, threads_override)\u001b[0m\n\u001b[1;32m     68\u001b[0m profile_renderer \u001b[39m=\u001b[39m ProfileRenderer(cli_vars)\n\u001b[1;32m     69\u001b[0m profile_name \u001b[39m=\u001b[39m profile_renderer\u001b[39m.\u001b[39mrender_value(raw_profile_name)\n\u001b[0;32m---> 70\u001b[0m profile \u001b[39m=\u001b[39m Profile\u001b[39m.\u001b[39;49mrender(\n\u001b[1;32m     71\u001b[0m     profile_renderer, profile_name, profile_name_override, target_override, threads_override\n\u001b[1;32m     72\u001b[0m )\n\u001b[1;32m     73\u001b[0m \u001b[39m# Save env_vars encountered in rendering for partial parsing\u001b[39;00m\n\u001b[1;32m     74\u001b[0m profile\u001b[39m.\u001b[39mprofile_env_vars \u001b[39m=\u001b[39m profile_renderer\u001b[39m.\u001b[39mctx_obj\u001b[39m.\u001b[39menv_vars\n",
      "File \u001b[0;32m/opt/homebrew/Caskroom/miniconda/base/lib/python3.11/site-packages/dbt/config/profile.py:438\u001b[0m, in \u001b[0;36mProfile.render\u001b[0;34m(cls, renderer, project_profile_name, profile_name_override, target_override, threads_override)\u001b[0m\n\u001b[1;32m    436\u001b[0m raw_profiles \u001b[39m=\u001b[39m read_profile(flags\u001b[39m.\u001b[39mPROFILES_DIR)\n\u001b[1;32m    437\u001b[0m profile_name \u001b[39m=\u001b[39m \u001b[39mcls\u001b[39m\u001b[39m.\u001b[39mpick_profile_name(profile_name_override, project_profile_name)\n\u001b[0;32m--> 438\u001b[0m \u001b[39mreturn\u001b[39;00m \u001b[39mcls\u001b[39;49m\u001b[39m.\u001b[39;49mfrom_raw_profiles(\n\u001b[1;32m    439\u001b[0m     raw_profiles\u001b[39m=\u001b[39;49mraw_profiles,\n\u001b[1;32m    440\u001b[0m     profile_name\u001b[39m=\u001b[39;49mprofile_name,\n\u001b[1;32m    441\u001b[0m     renderer\u001b[39m=\u001b[39;49mrenderer,\n\u001b[1;32m    442\u001b[0m     target_override\u001b[39m=\u001b[39;49mtarget_override,\n\u001b[1;32m    443\u001b[0m     threads_override\u001b[39m=\u001b[39;49mthreads_override,\n\u001b[1;32m    444\u001b[0m )\n",
      "File \u001b[0;32m/opt/homebrew/Caskroom/miniconda/base/lib/python3.11/site-packages/dbt/config/profile.py:393\u001b[0m, in \u001b[0;36mProfile.from_raw_profiles\u001b[0;34m(cls, raw_profiles, profile_name, renderer, target_override, threads_override)\u001b[0m\n\u001b[1;32m    391\u001b[0m \u001b[39mprint\u001b[39m(raw_profiles)\n\u001b[1;32m    392\u001b[0m \u001b[39mif\u001b[39;00m profile_name \u001b[39mnot\u001b[39;00m \u001b[39min\u001b[39;00m raw_profiles:\n\u001b[0;32m--> 393\u001b[0m     \u001b[39mraise\u001b[39;00m DbtProjectError(\u001b[39m\"\u001b[39m\u001b[39mCould not find profile named \u001b[39m\u001b[39m'\u001b[39m\u001b[39m{}\u001b[39;00m\u001b[39m'\u001b[39m\u001b[39m\"\u001b[39m\u001b[39m.\u001b[39mformat(profile_name))\n\u001b[1;32m    395\u001b[0m \u001b[39m# First, we've already got our final decision on profile name, and we\u001b[39;00m\n\u001b[1;32m    396\u001b[0m \u001b[39m# don't render keys, so we can pluck that out\u001b[39;00m\n\u001b[1;32m    397\u001b[0m raw_profile \u001b[39m=\u001b[39m raw_profiles[profile_name]\n",
      "\u001b[0;31mDbtProjectError\u001b[0m: Runtime Error\n  Could not find profile named 'dbt_dummy_project'"
     ]
    }
   ],
   "source": [
    "import dbt\n",
    "from dbt.cli.main import dbtRunner\n",
    "from dbt.config.runtime import load_profile, load_project\n",
    "import dbt.version\n",
    "\n",
    "\n",
    "project_path='..'\n",
    "dbtRunner().invoke([\"-q\", \"debug\"], project_dir=str(project_path))\n",
    "profile = load_profile(str(project_path), {})\n",
    "project = load_project(str(project_path), version_check=False, profile=profile)\n",
    "\n",
    "project"
   ]
  },
  {
   "cell_type": "code",
   "execution_count": null,
   "metadata": {},
   "outputs": [],
   "source": []
  }
 ],
 "metadata": {
  "kernelspec": {
   "display_name": "base",
   "language": "python",
   "name": "python3"
  },
  "language_info": {
   "codemirror_mode": {
    "name": "ipython",
    "version": 3
   },
   "file_extension": ".py",
   "mimetype": "text/x-python",
   "name": "python",
   "nbconvert_exporter": "python",
   "pygments_lexer": "ipython3",
   "version": "3.11.3"
  },
  "orig_nbformat": 4
 },
 "nbformat": 4,
 "nbformat_minor": 2
}
